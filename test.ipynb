{
 "cells": [
  {
   "cell_type": "code",
   "execution_count": null,
   "metadata": {},
   "outputs": [],
   "source": [
    "from swiss_chess.main import main"
   ]
  },
  {
   "cell_type": "code",
   "execution_count": null,
   "metadata": {},
   "outputs": [],
   "source": [
    "players = [\"Martijn\", \"Rutger\", \"Marc\", \"Paolo\"]  # , \"Ivan\", \"Nils\", \"Vladimir\", \"Niek\"\n",
    "rounds = 2\n",
    "seed = 42\n",
    "\n",
    "all_players = main(players, rounds, seed)"
   ]
  },
  {
   "cell_type": "code",
   "execution_count": null,
   "metadata": {},
   "outputs": [],
   "source": [
    "import chess\n",
    "\n",
    "fen = \"1r3rk1/4nnpp/p2q4/1p1Ppp1b/4P3/1B2QNBP/P4PP1/1R1R2K1 w - - 0 27\"\n",
    "\n",
    "all_moves = [\"e4f5\", \"e7f5\"]\n",
    "\n",
    "board = chess.Board(fen)\n",
    "board.push(chess.Move.from_uci(all_moves[0]))\n",
    "board.push(chess.Move.from_uci(all_moves[1]))\n",
    "board"
   ]
  },
  {
   "cell_type": "code",
   "execution_count": null,
   "metadata": {},
   "outputs": [],
   "source": []
  }
 ],
 "metadata": {
  "kernelspec": {
   "display_name": ".venv",
   "language": "python",
   "name": "python3"
  },
  "language_info": {
   "codemirror_mode": {
    "name": "ipython",
    "version": 3
   },
   "file_extension": ".py",
   "mimetype": "text/x-python",
   "name": "python",
   "nbconvert_exporter": "python",
   "pygments_lexer": "ipython3",
   "version": "3.11.0"
  }
 },
 "nbformat": 4,
 "nbformat_minor": 2
}
